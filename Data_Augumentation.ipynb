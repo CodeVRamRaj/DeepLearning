{
  "nbformat": 4,
  "nbformat_minor": 0,
  "metadata": {
    "colab": {
      "provenance": []
    },
    "kernelspec": {
      "name": "python3",
      "display_name": "Python 3"
    },
    "language_info": {
      "name": "python"
    }
  },
  "cells": [
    {
      "cell_type": "code",
      "source": [
        "# https://blog.keras.io/building-powerful-image-classification-models-using-very-little-data.html\n",
        "\n"
      ],
      "metadata": {
        "id": "muStQiTO8obo"
      },
      "execution_count": null,
      "outputs": []
    },
    {
      "cell_type": "code",
      "source": [
        "from keras.preprocessing import image \n",
        "from keras.preprocessing.image import ImageDataGenerator \n",
        "import os"
      ],
      "metadata": {
        "id": "Vl6LcamSrmkt"
      },
      "execution_count": null,
      "outputs": []
    },
    {
      "cell_type": "code",
      "source": [
        "img = image.load_img('/content/cat.18.jpg',target_size=(200,200))\n",
        "import matplotlib.pyplot as plt \n",
        "plt.imshow(img)"
      ],
      "metadata": {
        "colab": {
          "base_uri": "https://localhost:8080/",
          "height": 363
        },
        "id": "JHzbyJp_r-YP",
        "outputId": "5776fbc8-6ebc-44c3-d99d-414d219e72f5"
      },
      "execution_count": null,
      "outputs": [
        {
          "output_type": "error",
          "ename": "FileNotFoundError",
          "evalue": "ignored",
          "traceback": [
            "\u001b[0;31m---------------------------------------------------------------------------\u001b[0m",
            "\u001b[0;31mFileNotFoundError\u001b[0m                         Traceback (most recent call last)",
            "\u001b[0;32m<ipython-input-10-4b5d114c98bf>\u001b[0m in \u001b[0;36m<module>\u001b[0;34m()\u001b[0m\n\u001b[0;32m----> 1\u001b[0;31m \u001b[0mimg\u001b[0m \u001b[0;34m=\u001b[0m \u001b[0mimage\u001b[0m\u001b[0;34m.\u001b[0m\u001b[0mload_img\u001b[0m\u001b[0;34m(\u001b[0m\u001b[0;34m'/content/cat.18.jpg'\u001b[0m\u001b[0;34m,\u001b[0m\u001b[0mtarget_size\u001b[0m\u001b[0;34m=\u001b[0m\u001b[0;34m(\u001b[0m\u001b[0;36m200\u001b[0m\u001b[0;34m,\u001b[0m\u001b[0;36m200\u001b[0m\u001b[0;34m)\u001b[0m\u001b[0;34m)\u001b[0m\u001b[0;34m\u001b[0m\u001b[0;34m\u001b[0m\u001b[0m\n\u001b[0m\u001b[1;32m      2\u001b[0m \u001b[0;32mimport\u001b[0m \u001b[0mmatplotlib\u001b[0m\u001b[0;34m.\u001b[0m\u001b[0mpyplot\u001b[0m \u001b[0;32mas\u001b[0m \u001b[0mplt\u001b[0m\u001b[0;34m\u001b[0m\u001b[0;34m\u001b[0m\u001b[0m\n\u001b[1;32m      3\u001b[0m \u001b[0mplt\u001b[0m\u001b[0;34m.\u001b[0m\u001b[0mimshow\u001b[0m\u001b[0;34m(\u001b[0m\u001b[0mimg\u001b[0m\u001b[0;34m)\u001b[0m\u001b[0;34m\u001b[0m\u001b[0;34m\u001b[0m\u001b[0m\n",
            "\u001b[0;32m/usr/local/lib/python3.7/dist-packages/keras/preprocessing/image.py\u001b[0m in \u001b[0;36mload_img\u001b[0;34m(path, grayscale, color_mode, target_size, interpolation)\u001b[0m\n\u001b[1;32m    312\u001b[0m   \"\"\"\n\u001b[1;32m    313\u001b[0m   return image.load_img(path, grayscale=grayscale, color_mode=color_mode,\n\u001b[0;32m--> 314\u001b[0;31m                         target_size=target_size, interpolation=interpolation)\n\u001b[0m\u001b[1;32m    315\u001b[0m \u001b[0;34m\u001b[0m\u001b[0m\n\u001b[1;32m    316\u001b[0m \u001b[0;34m\u001b[0m\u001b[0m\n",
            "\u001b[0;32m/usr/local/lib/python3.7/dist-packages/keras_preprocessing/image/utils.py\u001b[0m in \u001b[0;36mload_img\u001b[0;34m(path, grayscale, color_mode, target_size, interpolation)\u001b[0m\n\u001b[1;32m    111\u001b[0m         raise ImportError('Could not import PIL.Image. '\n\u001b[1;32m    112\u001b[0m                           'The use of `load_img` requires PIL.')\n\u001b[0;32m--> 113\u001b[0;31m     \u001b[0;32mwith\u001b[0m \u001b[0mopen\u001b[0m\u001b[0;34m(\u001b[0m\u001b[0mpath\u001b[0m\u001b[0;34m,\u001b[0m \u001b[0;34m'rb'\u001b[0m\u001b[0;34m)\u001b[0m \u001b[0;32mas\u001b[0m \u001b[0mf\u001b[0m\u001b[0;34m:\u001b[0m\u001b[0;34m\u001b[0m\u001b[0;34m\u001b[0m\u001b[0m\n\u001b[0m\u001b[1;32m    114\u001b[0m         \u001b[0mimg\u001b[0m \u001b[0;34m=\u001b[0m \u001b[0mpil_image\u001b[0m\u001b[0;34m.\u001b[0m\u001b[0mopen\u001b[0m\u001b[0;34m(\u001b[0m\u001b[0mio\u001b[0m\u001b[0;34m.\u001b[0m\u001b[0mBytesIO\u001b[0m\u001b[0;34m(\u001b[0m\u001b[0mf\u001b[0m\u001b[0;34m.\u001b[0m\u001b[0mread\u001b[0m\u001b[0;34m(\u001b[0m\u001b[0;34m)\u001b[0m\u001b[0;34m)\u001b[0m\u001b[0;34m)\u001b[0m\u001b[0;34m\u001b[0m\u001b[0;34m\u001b[0m\u001b[0m\n\u001b[1;32m    115\u001b[0m         \u001b[0;32mif\u001b[0m \u001b[0mcolor_mode\u001b[0m \u001b[0;34m==\u001b[0m \u001b[0;34m'grayscale'\u001b[0m\u001b[0;34m:\u001b[0m\u001b[0;34m\u001b[0m\u001b[0;34m\u001b[0m\u001b[0m\n",
            "\u001b[0;31mFileNotFoundError\u001b[0m: [Errno 2] No such file or directory: '/content/cat.18.jpg'"
          ]
        }
      ]
    },
    {
      "cell_type": "code",
      "source": [
        "datagen = ImageDataGenerator(\n",
        "    rotation_range=30,\n",
        "    width_shift_range=0.2,\n",
        "    height_shift_range=0.2,\n",
        "    shear_range=0.2,\n",
        "    zoom_range=0.2,\n",
        "    horizontal_flip=True,\n",
        "  vertical_flip=False)"
      ],
      "metadata": {
        "id": "fA-TeebzsV-n"
      },
      "execution_count": null,
      "outputs": []
    },
    {
      "cell_type": "code",
      "source": [
        "print(type(img))\n",
        "img = image.img_to_array(img)\n",
        "print(type(img))"
      ],
      "metadata": {
        "id": "dG7DhmYtu696"
      },
      "execution_count": null,
      "outputs": []
    },
    {
      "cell_type": "code",
      "source": [
        "img.shape"
      ],
      "metadata": {
        "id": "YBeeGNGovhDq"
      },
      "execution_count": null,
      "outputs": []
    },
    {
      "cell_type": "code",
      "source": [
        "input_batch = img.reshape(1,200,200,3) # 1 represent ..How many images"
      ],
      "metadata": {
        "id": "gMjwVqMQvoFu"
      },
      "execution_count": null,
      "outputs": []
    },
    {
      "cell_type": "code",
      "source": [
        "!mkdir aug"
      ],
      "metadata": {
        "id": "uJcoWVg5x7PV"
      },
      "execution_count": null,
      "outputs": []
    },
    {
      "cell_type": "code",
      "source": [
        "i=0 \n",
        "for output in datagen.flow(input_batch,batch_size=1, save_to_dir ='aug'):\n",
        "   #flow for image preprocessing 1 image and all images formed are save in aug directiory\n",
        "        i = i+1\n",
        "        if i==10:\n",
        "          break"
      ],
      "metadata": {
        "id": "E5uXecAKv8MZ"
      },
      "execution_count": null,
      "outputs": []
    },
    {
      "cell_type": "code",
      "source": [
        "img = image.load_img('/content/aug/_0_4120.png',target_size=(200,200))\n",
        "img"
      ],
      "metadata": {
        "id": "6lXNBAXFwdIn"
      },
      "execution_count": null,
      "outputs": []
    },
    {
      "cell_type": "code",
      "source": [],
      "metadata": {
        "id": "6KbMGfNEyiEm"
      },
      "execution_count": null,
      "outputs": []
    },
    {
      "cell_type": "code",
      "source": [],
      "metadata": {
        "id": "bftpQNez0fAZ"
      },
      "execution_count": null,
      "outputs": []
    },
    {
      "cell_type": "markdown",
      "source": [
        "**Data Augumentation on CAT_DOG**"
      ],
      "metadata": {
        "id": "UX_n2z_y0fqz"
      }
    },
    {
      "cell_type": "code",
      "source": [
        "import os\n",
        "os.environ['KAGGLE_USERNAME'] = 'codebloodediitg'\n",
        "os.environ['KAGGLE_KEY']  = '6fd5bc645cc75742666bfca2c651cf39'\n",
        "!kaggle competitions download -c dogs-vs-cats"
      ],
      "metadata": {
        "colab": {
          "base_uri": "https://localhost:8080/"
        },
        "id": "ipkAVzde0jce",
        "outputId": "29ad84ca-567d-48a9-a8b3-f628364942a7"
      },
      "execution_count": null,
      "outputs": [
        {
          "output_type": "stream",
          "name": "stdout",
          "text": [
            "Downloading dogs-vs-cats.zip to /content\n",
            " 97% 791M/812M [00:03<00:00, 242MB/s]\n",
            "100% 812M/812M [00:03<00:00, 230MB/s]\n"
          ]
        }
      ]
    },
    {
      "cell_type": "code",
      "source": [
        "from zipfile import ZipFile \n",
        "file_name = '/content/dogs-vs-cats.zip'\n",
        "with ZipFile(file_name, 'r') as zip:\n",
        "  zip.extractall()\n",
        "  print(\"done\")"
      ],
      "metadata": {
        "colab": {
          "base_uri": "https://localhost:8080/"
        },
        "id": "Yud9CLUI0kKg",
        "outputId": "d6fe96e1-e016-48ec-ef4c-6ecddc83e15b"
      },
      "execution_count": null,
      "outputs": [
        {
          "output_type": "stream",
          "name": "stdout",
          "text": [
            "done\n"
          ]
        }
      ]
    },
    {
      "cell_type": "code",
      "source": [
        "from zipfile import ZipFile \n",
        "file_name = '/content/train.zip'\n",
        "with ZipFile(file_name, 'r') as zip:\n",
        "  zip.extractall()\n",
        "  print(\"done\")"
      ],
      "metadata": {
        "colab": {
          "base_uri": "https://localhost:8080/"
        },
        "id": "_tUjNMkh0nUu",
        "outputId": "6b4ecdd4-a649-48ea-91dc-02488cdaff28"
      },
      "execution_count": null,
      "outputs": [
        {
          "output_type": "stream",
          "name": "stdout",
          "text": [
            "done\n"
          ]
        }
      ]
    },
    {
      "cell_type": "code",
      "source": [
        "data_dir_list = os.listdir('/content/train')\n",
        "path, dirs, files = next(os.walk(\"/content/train\"))\n",
        "file_count = len(files)\n",
        "print(file_count)\n",
        "original_dataset_dir = '/content/train'\n",
        "base_dir = '/content/cats_and_dogs_small'  #new directory\n",
        "os.mkdir(base_dir)"
      ],
      "metadata": {
        "colab": {
          "base_uri": "https://localhost:8080/"
        },
        "id": "BALNubn10vUb",
        "outputId": "47aaa915-605d-4cf6-a5c4-e1998ee671c7"
      },
      "execution_count": null,
      "outputs": [
        {
          "output_type": "stream",
          "name": "stdout",
          "text": [
            "25000\n"
          ]
        }
      ]
    },
    {
      "cell_type": "code",
      "source": [
        "train_dir = os.path.join(base_dir,'train')\n",
        "os.mkdir(train_dir)\n",
        "\n",
        "validation_dir = os.path.join(base_dir,'validation')\n",
        "os.mkdir(validation_dir)\n",
        "\n",
        "test_dir = os.path.join(base_dir,'test')\n",
        "os.mkdir(test_dir)\n",
        "\n",
        "train_cats_dir = os.path.join(train_dir,'cats')\n",
        "os.mkdir(train_cats_dir)\n",
        "\n",
        "train_dogs_dir = os.path.join(train_dir,'dogs')\n",
        "os.mkdir(train_dogs_dir)\n",
        "\n",
        "validation_cats_dir = os.path.join(validation_dir,'cats')\n",
        "os.mkdir(validation_cats_dir)\n",
        "\n",
        "validation_dogs_dir = os.path.join(validation_dir,'dogs')\n",
        "os.mkdir(validation_dogs_dir)\n",
        "\n",
        "test_cats_dir = os.path.join(test_dir,'cats')\n",
        "os.mkdir(test_cats_dir)\n",
        "\n",
        "test_dogs_dir = os.path.join(test_dir,'dogs')\n",
        "os.mkdir(test_dogs_dir)"
      ],
      "metadata": {
        "id": "Zl7M_zxY024S"
      },
      "execution_count": null,
      "outputs": []
    },
    {
      "cell_type": "code",
      "source": [
        "import shutil\n",
        "\n",
        "fnames = ['cat.{}.jpg'.format(i) for i in range(1000)]\n",
        "for fname in fnames:\n",
        "    src = os.path.join(original_dataset_dir, fname)\n",
        "    dst = os.path.join(train_cats_dir, fname)\n",
        "    #print(src,dst)\n",
        "    shutil.copyfile(src, dst)\n",
        "    \n",
        "fnames = ['cat.{}.jpg'.format(i) for i in range(1000, 1500)]\n",
        "for fname in fnames:\n",
        "    src = os.path.join(original_dataset_dir, fname)\n",
        "    dst = os.path.join(validation_cats_dir, fname)\n",
        "    shutil.copyfile(src, dst)\n",
        "\n",
        "fnames = ['cat.{}.jpg'.format(i) for i in range(1500, 2000)]\n",
        "for fname in fnames:\n",
        "    src = os.path.join(original_dataset_dir, fname)\n",
        "    dst = os.path.join(test_cats_dir, fname)\n",
        "    shutil.copyfile(src, dst)\n",
        "    \n",
        "fnames = ['dog.{}.jpg'.format(i) for i in range(1000)]\n",
        "for fname in fnames:\n",
        "    src = os.path.join(original_dataset_dir, fname)\n",
        "    dst = os.path.join(train_dogs_dir, fname)\n",
        "    shutil.copyfile(src, dst)\n",
        "\n",
        "fnames = ['dog.{}.jpg'.format(i) for i in range(1000, 1500)]\n",
        "for fname in fnames:\n",
        "    src = os.path.join(original_dataset_dir, fname)\n",
        "    dst = os.path.join(validation_dogs_dir, fname)\n",
        "    shutil.copyfile(src, dst)\n",
        "\n",
        "fnames = ['dog.{}.jpg'.format(i) for i in range(1500, 2000)]\n",
        "for fname in fnames:\n",
        "    src = os.path.join(original_dataset_dir, fname)\n",
        "    dst = os.path.join(test_dogs_dir, fname)\n",
        "    shutil.copyfile(src, dst)"
      ],
      "metadata": {
        "id": "mSTCSJe305bD"
      },
      "execution_count": null,
      "outputs": []
    },
    {
      "cell_type": "code",
      "source": [
        "import cv2 \n",
        "import os \n",
        "import random \n",
        "import numpy as np "
      ],
      "metadata": {
        "id": "LaNWY3YV1Nne"
      },
      "execution_count": null,
      "outputs": []
    },
    {
      "cell_type": "code",
      "source": [
        "mydir = r'/content/cats_and_dogs_small/train'\n",
        "categories = ['cats', 'dogs']"
      ],
      "metadata": {
        "id": "TFKn6c_U18EL"
      },
      "execution_count": null,
      "outputs": []
    },
    {
      "cell_type": "code",
      "source": [
        "data = []\n",
        "for i in categories:\n",
        "  folder_path = os.path.join(mydir,i)\n",
        "  if i=='cats':\n",
        "      label=0\n",
        "  else:\n",
        "      label=1\n",
        "  for j in os.listdir(folder_path):\n",
        "    img_path = os.path.join(folder_path,j)  #print(img_path) \n",
        "    img = cv2.imread(img_path)   #plt.imshow(img)  ->img will show\n",
        "    img = cv2.resize(img,(150,150)) # resize becuase every image has different size\n",
        "    data.append([img, label])\n",
        "  "
      ],
      "metadata": {
        "id": "Q2HORQFD2CpC"
      },
      "execution_count": null,
      "outputs": []
    },
    {
      "cell_type": "code",
      "source": [
        "import random \n",
        "random.shuffle(data)\n",
        "\n",
        "X =[]\n",
        "y =[]\n",
        "\n",
        "for features , labels in data:\n",
        "   X.append(features)\n",
        "   y.append(labels)"
      ],
      "metadata": {
        "id": "JdpVDv3v2GLT"
      },
      "execution_count": null,
      "outputs": []
    },
    {
      "cell_type": "code",
      "source": [
        "X = np.array(X)\n",
        "y = np.array(y)\n",
        "X = X/255\n"
      ],
      "metadata": {
        "id": "Flf0bGYI2MZm"
      },
      "execution_count": null,
      "outputs": []
    },
    {
      "cell_type": "code",
      "source": [
        "from keras import Sequential \n",
        "from keras.layers import Conv2D, MaxPooling2D, Dense, Flatten "
      ],
      "metadata": {
        "id": "H4hq87CM2UWL"
      },
      "execution_count": null,
      "outputs": []
    },
    {
      "cell_type": "code",
      "source": [
        "model = Sequential()\n",
        "model.add(Conv2D(64,kernel_size = (3,3), activation = 'relu', input_shape =(150,150,3) )) \n",
        "# or directly write  Conv2D(64,(3,3)) instead of Conv2D(64,kernel_size = (3,3)\n",
        "model.add(MaxPooling2D((2,2)))\n",
        "\n",
        "model.add(Conv2D(64,kernel_size = (3,3), activation = 'relu'))\n",
        "model.add(MaxPooling2D((2,2)))\n",
        "\n",
        "model.add(Conv2D(64,kernel_size = (3,3), activation = 'relu'))\n",
        "model.add(MaxPooling2D((2,2)))\n",
        "\n",
        "model.add(Flatten())\n",
        "\n",
        "model.add(Dense(128, activation = 'relu'))\n",
        "model.add(Dense(1, activation= 'sigmoid'))"
      ],
      "metadata": {
        "id": "IbFKGAlA2fZS"
      },
      "execution_count": null,
      "outputs": []
    },
    {
      "cell_type": "code",
      "source": [
        "model.compile(optimizer='rmsprop', loss ='binary_crossentropy', metrics =['accuracy']  )"
      ],
      "metadata": {
        "id": "R6Un9cve3CQS"
      },
      "execution_count": null,
      "outputs": []
    },
    {
      "cell_type": "code",
      "source": [
        "history =model.fit(X,y, epochs=5, validation_split=0.2)"
      ],
      "metadata": {
        "colab": {
          "base_uri": "https://localhost:8080/"
        },
        "id": "EV7cApcl3RvC",
        "outputId": "1ff8b69e-f622-44c3-9625-f0a301ddf7ce"
      },
      "execution_count": null,
      "outputs": [
        {
          "output_type": "stream",
          "name": "stdout",
          "text": [
            "Epoch 1/5\n",
            "50/50 [==============================] - 92s 2s/step - loss: 0.7651 - accuracy: 0.5075 - val_loss: 0.7059 - val_accuracy: 0.4575\n",
            "Epoch 2/5\n",
            "50/50 [==============================] - 91s 2s/step - loss: 0.7012 - accuracy: 0.5206 - val_loss: 0.6882 - val_accuracy: 0.6000\n",
            "Epoch 3/5\n",
            "50/50 [==============================] - 88s 2s/step - loss: 0.6916 - accuracy: 0.6031 - val_loss: 0.6494 - val_accuracy: 0.6675\n",
            "Epoch 4/5\n",
            "50/50 [==============================] - 99s 2s/step - loss: 0.6434 - accuracy: 0.6525 - val_loss: 0.6420 - val_accuracy: 0.6625\n",
            "Epoch 5/5\n",
            "50/50 [==============================] - 90s 2s/step - loss: 0.5996 - accuracy: 0.6837 - val_loss: 0.7415 - val_accuracy: 0.5400\n"
          ]
        }
      ]
    },
    {
      "cell_type": "code",
      "source": [
        "from keras.preprocessing.image import ImageDataGenerator \n"
      ],
      "metadata": {
        "id": "FsSzlSRc3e9p"
      },
      "execution_count": null,
      "outputs": []
    },
    {
      "cell_type": "code",
      "source": [
        "batch_size = 16\n",
        "\n",
        "# this is the augmentation configuration we will use for training\n",
        "train_datagen = ImageDataGenerator(\n",
        "        rescale=1./255,\n",
        "        shear_range=0.2,\n",
        "        zoom_range=0.2,\n",
        "        horizontal_flip=True)\n",
        "\n",
        "# this is the augmentation configuration we will use for testing:\n",
        "# only rescaling\n",
        "test_datagen = ImageDataGenerator(rescale=1./255)\n",
        "\n",
        "# this is a generator that will read pictures found in\n",
        "# subfolers of 'data/train', and indefinitely generate\n",
        "# batches of augmented image data\n",
        "train_generator = train_datagen.flow_from_directory(\n",
        "        '/content/cats_and_dogs_small/train',  # this is the target directory\n",
        "        target_size=(150, 150),  # all images will be resized to 150x150\n",
        "        batch_size=batch_size,\n",
        "        class_mode='binary')  # since we use binary_crossentropy loss, we need binary labels\n",
        "\n",
        "# this is a similar generator, for validation data\n",
        "validation_generator = test_datagen.flow_from_directory(\n",
        "        '/content/cats_and_dogs_small/validation',\n",
        "        target_size=(150, 150),\n",
        "        batch_size=batch_size,\n",
        "        class_mode='binary')"
      ],
      "metadata": {
        "colab": {
          "base_uri": "https://localhost:8080/"
        },
        "id": "ZavBVMqG4M_d",
        "outputId": "b8a82e02-6940-4e4a-ec3b-4738d952fe94"
      },
      "execution_count": null,
      "outputs": [
        {
          "output_type": "stream",
          "name": "stdout",
          "text": [
            "Found 2000 images belonging to 2 classes.\n",
            "Found 1000 images belonging to 2 classes.\n"
          ]
        }
      ]
    },
    {
      "cell_type": "code",
      "source": [
        "model = Sequential()\n",
        "model.add(Conv2D(64,kernel_size = (3,3), activation = 'relu', input_shape =(150,150,3) )) \n",
        "# or directly write  Conv2D(64,(3,3)) instead of Conv2D(64,kernel_size = (3,3)\n",
        "model.add(MaxPooling2D((2,2)))\n",
        "\n",
        "model.add(Conv2D(64,kernel_size = (3,3), activation = 'relu'))\n",
        "model.add(MaxPooling2D((2,2)))\n",
        "\n",
        "model.add(Conv2D(64,kernel_size = (3,3), activation = 'relu'))\n",
        "model.add(MaxPooling2D((2,2)))\n",
        "\n",
        "model.add(Flatten())\n",
        "\n",
        "model.add(Dense(128, activation = 'relu'))\n",
        "model.add(Dense(1, activation= 'sigmoid'))\n",
        "\n",
        "model.compile(optimizer='rmsprop', loss ='binary_crossentropy', metrics =['accuracy']  )"
      ],
      "metadata": {
        "id": "p4LdPmaF45Rd"
      },
      "execution_count": null,
      "outputs": []
    },
    {
      "cell_type": "code",
      "source": [
        "model.fit_generator(\n",
        "        train_generator,\n",
        "        steps_per_epoch=2000 // batch_size,\n",
        "        epochs=5,\n",
        "        validation_data=validation_generator,\n",
        "        validation_steps=800 // batch_size)\n",
        "model.save_weights('first_try.h5')  # always save your weights after training or during training"
      ],
      "metadata": {
        "colab": {
          "base_uri": "https://localhost:8080/"
        },
        "id": "tVnHrb0W5btq",
        "outputId": "628e42c9-f555-4354-ff9b-8b328e730950"
      },
      "execution_count": null,
      "outputs": [
        {
          "output_type": "stream",
          "name": "stderr",
          "text": [
            "/usr/local/lib/python3.7/dist-packages/ipykernel_launcher.py:6: UserWarning: `Model.fit_generator` is deprecated and will be removed in a future version. Please use `Model.fit`, which supports generators.\n",
            "  \n"
          ]
        },
        {
          "output_type": "stream",
          "name": "stdout",
          "text": [
            "Epoch 1/5\n",
            "125/125 [==============================] - 135s 1s/step - loss: 0.7462 - accuracy: 0.5235 - val_loss: 0.6651 - val_accuracy: 0.5875\n",
            "Epoch 2/5\n",
            "125/125 [==============================] - 130s 1s/step - loss: 0.6860 - accuracy: 0.5820 - val_loss: 0.6260 - val_accuracy: 0.6338\n",
            "Epoch 3/5\n",
            "125/125 [==============================] - 128s 1s/step - loss: 0.6497 - accuracy: 0.6610 - val_loss: 0.5986 - val_accuracy: 0.6612\n",
            "Epoch 4/5\n",
            "125/125 [==============================] - 131s 1s/step - loss: 0.6180 - accuracy: 0.6775 - val_loss: 0.6172 - val_accuracy: 0.6538\n",
            "Epoch 5/5\n",
            "125/125 [==============================] - 128s 1s/step - loss: 0.5774 - accuracy: 0.7035 - val_loss: 0.5875 - val_accuracy: 0.6837\n"
          ]
        }
      ]
    },
    {
      "cell_type": "code",
      "source": [
        "!mkdir -p saved_model\n",
        "model.save('cat_dog_model1.h5') "
      ],
      "metadata": {
        "id": "r1Wc6mO7dBUi"
      },
      "execution_count": null,
      "outputs": []
    },
    {
      "cell_type": "code",
      "source": [
        " "
      ],
      "metadata": {
        "id": "ywnTcbck5kKH"
      },
      "execution_count": null,
      "outputs": []
    },
    {
      "cell_type": "code",
      "source": [],
      "metadata": {
        "id": "kiLZVetq4pa9"
      },
      "execution_count": null,
      "outputs": []
    },
    {
      "cell_type": "markdown",
      "source": [
        "**Transfer Learning**"
      ],
      "metadata": {
        "id": "vih4kFLP4qjC"
      }
    },
    {
      "cell_type": "code",
      "source": [
        "# https://machinelearningknowledge.ai/popular-image-classification-models-in-imagenet-challenge-ilsvrc-competition-history/"
      ],
      "metadata": {
        "id": "H1J4l4I75Zju"
      },
      "execution_count": null,
      "outputs": []
    },
    {
      "cell_type": "code",
      "source": [
        "from keras.applications.vgg16 import VGG16"
      ],
      "metadata": {
        "id": "eO3Ptjm34tPc"
      },
      "execution_count": null,
      "outputs": []
    },
    {
      "cell_type": "code",
      "source": [],
      "metadata": {
        "id": "uEZCa-kOHdZY"
      },
      "execution_count": null,
      "outputs": []
    },
    {
      "cell_type": "markdown",
      "source": [
        "**method 1 direct predict**"
      ],
      "metadata": {
        "id": "cJVrDGmpHfde"
      }
    },
    {
      "cell_type": "code",
      "source": [
        "model = VGG16()"
      ],
      "metadata": {
        "id": "aCZiaqx44-oP"
      },
      "execution_count": null,
      "outputs": []
    },
    {
      "cell_type": "code",
      "source": [
        "model.summary()"
      ],
      "metadata": {
        "colab": {
          "base_uri": "https://localhost:8080/"
        },
        "id": "GBhVJQ-w5BE2",
        "outputId": "792ddadc-bd57-4a0e-b72c-73f8b7456b36"
      },
      "execution_count": null,
      "outputs": [
        {
          "output_type": "stream",
          "name": "stdout",
          "text": [
            "Model: \"vgg16\"\n",
            "_________________________________________________________________\n",
            " Layer (type)                Output Shape              Param #   \n",
            "=================================================================\n",
            " input_1 (InputLayer)        [(None, 224, 224, 3)]     0         \n",
            "                                                                 \n",
            " block1_conv1 (Conv2D)       (None, 224, 224, 64)      1792      \n",
            "                                                                 \n",
            " block1_conv2 (Conv2D)       (None, 224, 224, 64)      36928     \n",
            "                                                                 \n",
            " block1_pool (MaxPooling2D)  (None, 112, 112, 64)      0         \n",
            "                                                                 \n",
            " block2_conv1 (Conv2D)       (None, 112, 112, 128)     73856     \n",
            "                                                                 \n",
            " block2_conv2 (Conv2D)       (None, 112, 112, 128)     147584    \n",
            "                                                                 \n",
            " block2_pool (MaxPooling2D)  (None, 56, 56, 128)       0         \n",
            "                                                                 \n",
            " block3_conv1 (Conv2D)       (None, 56, 56, 256)       295168    \n",
            "                                                                 \n",
            " block3_conv2 (Conv2D)       (None, 56, 56, 256)       590080    \n",
            "                                                                 \n",
            " block3_conv3 (Conv2D)       (None, 56, 56, 256)       590080    \n",
            "                                                                 \n",
            " block3_pool (MaxPooling2D)  (None, 28, 28, 256)       0         \n",
            "                                                                 \n",
            " block4_conv1 (Conv2D)       (None, 28, 28, 512)       1180160   \n",
            "                                                                 \n",
            " block4_conv2 (Conv2D)       (None, 28, 28, 512)       2359808   \n",
            "                                                                 \n",
            " block4_conv3 (Conv2D)       (None, 28, 28, 512)       2359808   \n",
            "                                                                 \n",
            " block4_pool (MaxPooling2D)  (None, 14, 14, 512)       0         \n",
            "                                                                 \n",
            " block5_conv1 (Conv2D)       (None, 14, 14, 512)       2359808   \n",
            "                                                                 \n",
            " block5_conv2 (Conv2D)       (None, 14, 14, 512)       2359808   \n",
            "                                                                 \n",
            " block5_conv3 (Conv2D)       (None, 14, 14, 512)       2359808   \n",
            "                                                                 \n",
            " block5_pool (MaxPooling2D)  (None, 7, 7, 512)         0         \n",
            "                                                                 \n",
            " flatten (Flatten)           (None, 25088)             0         \n",
            "                                                                 \n",
            " fc1 (Dense)                 (None, 4096)              102764544 \n",
            "                                                                 \n",
            " fc2 (Dense)                 (None, 4096)              16781312  \n",
            "                                                                 \n",
            " predictions (Dense)         (None, 1000)              4097000   \n",
            "                                                                 \n",
            "=================================================================\n",
            "Total params: 138,357,544\n",
            "Trainable params: 138,357,544\n",
            "Non-trainable params: 0\n",
            "_________________________________________________________________\n"
          ]
        }
      ]
    },
    {
      "cell_type": "code",
      "source": [
        "import matplotlib.pyplot as plt \n",
        "img = image.load_img('/content/download.jpg', target_size=(224,224))\n",
        "plt.imshow(img)"
      ],
      "metadata": {
        "colab": {
          "base_uri": "https://localhost:8080/",
          "height": 286
        },
        "id": "oGy1LO0i5srh",
        "outputId": "d596e174-5038-4f10-a414-26b03f4a9287"
      },
      "execution_count": null,
      "outputs": [
        {
          "output_type": "execute_result",
          "data": {
            "text/plain": [
              "<matplotlib.image.AxesImage at 0x7fd60b19ae50>"
            ]
          },
          "metadata": {},
          "execution_count": 73
        },
        {
          "output_type": "display_data",
          "data": {
            "text/plain": [
              "<Figure size 432x288 with 1 Axes>"
            ],
            "image/png": "[encoded data removed]"
          },
          "metadata": {
            "needs_background": "light"
          }
        }
      ]
    },
    {
      "cell_type": "code",
      "source": [
        "img = image.img_to_array(img)\n",
        "img = img.reshape((1,224,224,3))\n",
        "y_pred = model.predict(img)    \n",
        "print(y_pred)             "
      ],
      "metadata": {
        "colab": {
          "base_uri": "https://localhost:8080/"
        },
        "id": "uRSkZ2-L6eSp",
        "outputId": "741f5a1e-381e-4e37-96d7-dfd3ef85efcc"
      },
      "execution_count": null,
      "outputs": [
        {
          "output_type": "stream",
          "name": "stdout",
          "text": [
            "[[5.00750463e-09 1.13036225e-09 2.93685769e-08 1.47878199e-09\n",
            "  1.24855388e-08 3.43465117e-10 2.10032131e-10 1.35242599e-08\n",
            "  1.64243943e-08 9.08450914e-08 1.97639216e-09 1.33038043e-07\n",
            "  3.43860563e-07 8.55476756e-09 3.80049663e-08 8.46274872e-09\n",
            "  8.88832972e-08 1.16119701e-08 1.60802804e-09 9.89461668e-09\n",
            "  1.19858479e-09 1.15725307e-07 2.06070148e-08 3.03700389e-08\n",
            "  2.24161001e-09 1.50485596e-10 1.39842067e-08 4.64165290e-10\n",
            "  1.55589135e-11 8.36264391e-08 1.35115750e-08 6.35244604e-08\n",
            "  1.28509257e-08 1.37718601e-07 1.10609193e-08 7.12813053e-09\n",
            "  1.14169353e-07 1.03976461e-09 1.47458550e-07 2.05034056e-07\n",
            "  3.89059733e-06 4.68871697e-09 1.59655841e-07 9.39910592e-07\n",
            "  3.07459125e-08 1.55430389e-08 4.48568983e-07 2.05949342e-04\n",
            "  1.64355038e-06 1.05065201e-08 4.55048195e-08 7.28552891e-07\n",
            "  3.28995764e-09 2.63357919e-10 1.58612035e-09 2.42811950e-07\n",
            "  2.13457696e-10 8.72353578e-11 8.08883893e-09 4.14947685e-08\n",
            "  1.86075042e-07 1.27086054e-07 5.55002018e-08 3.40812591e-07\n",
            "  3.25015577e-07 3.15946060e-08 7.01712377e-09 2.60885429e-08\n",
            "  1.85358084e-09 6.00308830e-11 1.76203392e-11 5.83296895e-08\n",
            "  1.80002582e-10 1.47601198e-09 1.00667186e-09 8.65620596e-12\n",
            "  4.26340269e-10 5.59756996e-09 1.82517002e-10 5.08952915e-11\n",
            "  3.32989414e-09 2.06494752e-11 3.43699913e-09 1.76708415e-09\n",
            "  1.93717682e-07 7.41488249e-09 1.75853128e-08 5.12496641e-08\n",
            "  7.73977433e-08 1.56652131e-08 1.10062031e-08 1.83098359e-09\n",
            "  2.70447316e-07 1.60015574e-07 1.36459732e-07 4.16880752e-09\n",
            "  3.66602222e-07 1.88252102e-07 2.73064571e-09 2.09223771e-07\n",
            "  3.54820855e-07 1.46131322e-06 7.60326177e-11 2.15614124e-10\n",
            "  3.21136229e-09 1.68568437e-09 3.04018255e-10 1.12119515e-10\n",
            "  3.56444901e-10 1.00393513e-10 2.32607669e-10 7.14893886e-08\n",
            "  3.58471546e-08 6.77665302e-09 6.60294652e-10 7.99352529e-11\n",
            "  4.31950392e-10 6.67342848e-11 1.83005122e-09 9.28874269e-11\n",
            "  2.02473274e-08 1.10996101e-09 6.18045337e-11 6.53805565e-10\n",
            "  8.66165273e-09 3.66173825e-09 2.05398347e-08 5.44596475e-08\n",
            "  2.27451864e-07 1.21529752e-07 7.66927766e-09 2.88470915e-07\n",
            "  1.27932395e-07 3.14556587e-07 5.99537344e-08 3.77020726e-09\n",
            "  3.28595974e-07 1.51517327e-07 6.19678442e-09 5.03547551e-11\n",
            "  1.69371156e-10 1.96274144e-08 3.22631788e-09 1.55292295e-08\n",
            "  1.94860650e-06 4.47679582e-09 5.68526666e-08 6.01212662e-08\n",
            "  5.07655841e-07 1.60717342e-08 1.74293052e-06 8.29049398e-08\n",
            "  4.38812875e-10 1.07782383e-09 2.47525528e-10 1.59943270e-09\n",
            "  1.56656910e-08 1.90697436e-09 7.59183649e-09 3.59275532e-06\n",
            "  3.31987764e-07 1.37408520e-08 1.73485191e-07 9.64813717e-06\n",
            "  1.85070888e-07 1.64497891e-08 1.90022956e-06 6.34353114e-07\n",
            "  2.02084607e-06 2.16823514e-06 3.37136697e-07 1.43453110e-06\n",
            "  2.25635886e-04 1.90892533e-05 2.17719052e-08 1.32517675e-06\n",
            "  8.61116569e-05 6.66195490e-08 8.43969519e-06 3.38072184e-08\n",
            "  1.33128731e-06 2.21787502e-07 2.45975968e-08 6.83268553e-08\n",
            "  1.18251805e-07 3.30737926e-09 1.89895033e-08 7.82822696e-09\n",
            "  4.05051814e-08 7.98349618e-08 5.49602586e-10 3.02156394e-07\n",
            "  4.97280173e-09 5.76739634e-09 1.22005395e-09 5.66222660e-08\n",
            "  1.31930600e-09 4.55262601e-08 8.13901213e-09 2.76590084e-10\n",
            "  2.20169816e-09 1.27816486e-08 1.19451844e-08 2.25394772e-10\n",
            "  1.65381187e-09 6.41942099e-09 1.55356219e-07 2.36367072e-07\n",
            "  1.68276429e-07 3.04575178e-06 2.87121793e-08 1.25074553e-06\n",
            "  1.24901419e-07 1.42763838e-07 6.43744524e-09 9.96475435e-08\n",
            "  1.39023486e-08 1.61963030e-08 1.01244083e-07 2.11607372e-08\n",
            "  1.27728214e-07 4.43344454e-08 5.08671292e-08 5.14130183e-10\n",
            "  9.51144052e-09 1.29400007e-06 2.16303692e-06 1.31304390e-07\n",
            "  5.15968708e-08 4.74183270e-09 6.94919544e-09 3.33860868e-08\n",
            "  4.11234158e-09 1.79252524e-07 7.97949227e-08 1.21580988e-05\n",
            "  6.75813325e-08 1.95748502e-08 6.11350544e-08 2.67454170e-10\n",
            "  1.79916277e-08 6.80385082e-09 5.77357696e-07 5.17153751e-07\n",
            "  1.29645699e-08 1.39952272e-08 7.87499994e-06 1.61828702e-08\n",
            "  7.23098736e-08 1.11657377e-08 4.35705800e-08 1.53161395e-08\n",
            "  2.09742172e-11 5.26062558e-06 4.12357473e-08 2.18174790e-07\n",
            "  8.53936211e-09 1.07382103e-08 1.32025757e-09 5.31324262e-10\n",
            "  1.43924839e-09 6.22902563e-10 1.28705757e-08 1.11381659e-09\n",
            "  9.84285276e-09 6.83440238e-09 8.09416356e-09 1.44724731e-06\n",
            "  1.01873049e-07 1.07876845e-08 2.71710814e-08 2.51890793e-08\n",
            "  2.86594201e-07 4.21851183e-07 3.19698501e-07 4.03101907e-08\n",
            "  5.38215801e-08 5.84147175e-09 2.16109930e-09 2.14402718e-10\n",
            "  1.45846812e-09 1.27960098e-09 1.98723327e-09 6.14608841e-12\n",
            "  2.63426753e-10 7.76976705e-09 8.78966766e-09 3.09999693e-10\n",
            "  2.77288037e-09 1.01748721e-10 8.83588869e-10 5.06633660e-06\n",
            "  1.85589535e-08 1.01577786e-08 2.32726748e-07 1.10438592e-09\n",
            "  7.36564942e-08 2.63796061e-08 8.45887982e-08 4.50168784e-07\n",
            "  8.95425331e-11 1.23820609e-09 7.41706696e-11 8.26438806e-10\n",
            "  8.25408630e-10 6.58930618e-11 2.43329912e-10 2.52807197e-08\n",
            "  2.59694627e-10 1.43885048e-09 1.35133715e-09 1.79437870e-06\n",
            "  3.18445288e-08 1.21891190e-07 4.75642548e-09 1.64435949e-06\n",
            "  4.02456592e-08 2.28775420e-07 3.60499586e-09 2.48826577e-08\n",
            "  1.04325892e-09 1.96983541e-10 7.80152262e-11 1.66178789e-11\n",
            "  3.47468693e-10 4.81156581e-09 1.60029455e-11 2.79524794e-08\n",
            "  1.75150918e-11 9.31937166e-11 4.91884355e-09 5.73385783e-08\n",
            "  9.02368631e-12 5.54312464e-11 6.40300646e-10 1.71609460e-09\n",
            "  1.48332147e-09 3.45236835e-08 1.67194980e-10 1.58942882e-07\n",
            "  1.41963818e-08 3.72909312e-08 1.19348842e-09 1.24799837e-09\n",
            "  2.39181691e-06 2.59390561e-07 1.18167932e-07 4.24724522e-09\n",
            "  1.12236878e-08 3.57972780e-08 1.02022568e-09 1.95063010e-09\n",
            "  5.06535507e-08 7.64983596e-08 3.13950950e-05 6.11393673e-08\n",
            "  1.04340270e-08 2.01737693e-09 1.82330251e-09 4.11990747e-10\n",
            "  2.24904557e-08 1.16828196e-11 3.30662692e-10 2.18035612e-09\n",
            "  1.08134559e-08 6.36149423e-07 5.91111927e-07 1.10813571e-05\n",
            "  1.14399872e-05 2.82899208e-07 8.05328142e-08 3.23257814e-06\n",
            "  5.44667637e-06 5.77241735e-06 5.31950991e-06 6.12437967e-09\n",
            "  2.64436239e-05 3.32777539e-08 2.26186536e-08 3.98488709e-07\n",
            "  1.06141449e-07 1.06748203e-05 2.52834229e-06 1.02047144e-08\n",
            "  2.10482493e-10 1.09112625e-05 7.71329269e-06 2.95283464e-10\n",
            "  2.87832247e-09 5.13249852e-08 6.58125217e-08 1.74803672e-09\n",
            "  2.66884459e-10 6.05923922e-10 2.94082952e-06 4.96791529e-07\n",
            "  4.64662198e-10 1.14861363e-10 2.13413109e-08 2.44447421e-07\n",
            "  6.81136481e-10 9.62818536e-09 1.62127067e-09 3.21245086e-10\n",
            "  7.98267408e-08 2.70894085e-09 6.71754549e-07 2.05658246e-08\n",
            "  1.61632741e-07 1.53032254e-09 6.00654460e-08 1.44372927e-06\n",
            "  2.53136903e-07 1.61105582e-08 4.87651945e-08 2.38883739e-08\n",
            "  8.01452696e-01 1.23485592e-07 9.46012491e-10 2.25784387e-08\n",
            "  2.94798541e-09 2.05856359e-05 3.17395205e-07 3.86366281e-07\n",
            "  2.85479747e-08 7.56729901e-10 8.56154470e-12 5.29195852e-08\n",
            "  5.31026490e-06 1.58779496e-08 1.14082832e-05 5.84345617e-05\n",
            "  1.08816502e-08 5.90459149e-06 5.75158879e-07 4.33533933e-06\n",
            "  1.70228915e-08 4.35900915e-09 1.03141193e-08 2.98004554e-09\n",
            "  3.12090531e-09 3.85806775e-10 9.74898384e-09 3.85104082e-09\n",
            "  2.20106031e-07 5.50088043e-05 2.62904726e-10 9.43813347e-07\n",
            "  2.13482039e-07 2.20156924e-08 1.79295952e-07 5.96374599e-12\n",
            "  5.18122256e-09 1.67239165e-08 2.63681721e-09 2.06878445e-10\n",
            "  1.02092031e-06 5.62872460e-09 3.49382354e-08 2.97002885e-06\n",
            "  1.29625300e-06 8.09277356e-09 3.94238839e-07 3.55544603e-06\n",
            "  1.56242941e-09 7.85972389e-08 1.55869609e-10 7.20490220e-07\n",
            "  1.52389799e-08 2.25089085e-08 2.38705522e-09 5.64171501e-07\n",
            "  1.45601618e-04 8.32971470e-10 1.43208583e-08 8.14461831e-09\n",
            "  2.93907121e-08 4.49571491e-09 1.32111794e-07 2.38646347e-09\n",
            "  1.18925563e-08 1.86085244e-10 5.46286461e-10 2.80726979e-08\n",
            "  9.19950551e-08 4.44467574e-10 1.53313096e-08 1.41925028e-07\n",
            "  4.86889689e-07 4.37202363e-09 1.45329286e-08 1.67766973e-06\n",
            "  3.47876892e-08 3.13041260e-10 1.07163338e-07 4.92082763e-11\n",
            "  2.75983170e-09 7.03289427e-09 1.40960372e-08 2.38413520e-08\n",
            "  1.49489551e-07 3.63374511e-07 4.52996062e-07 3.46759821e-09\n",
            "  6.06533324e-10 5.53669466e-09 1.44875951e-08 1.51860191e-09\n",
            "  1.88924565e-09 7.29054728e-09 1.01965432e-08 5.82384985e-09\n",
            "  1.92097804e-09 1.01326423e-08 2.76736841e-06 3.58859609e-07\n",
            "  2.95641104e-04 1.53480162e-08 9.71193970e-09 3.41195033e-07\n",
            "  2.14511942e-06 1.56726687e-10 7.58657450e-07 3.40146325e-05\n",
            "  1.01721058e-08 2.34036563e-07 6.81845247e-09 2.47947496e-10\n",
            "  4.44259296e-09 5.34136120e-07 7.79381182e-09 1.99378327e-08\n",
            "  1.93744100e-07 2.16081908e-09 1.03543103e-08 1.92553334e-10\n",
            "  3.13040402e-08 4.25005339e-07 1.11886340e-08 2.63840843e-08\n",
            "  1.31923561e-09 4.37348540e-08 1.83789108e-08 6.61513411e-07\n",
            "  3.24020422e-10 7.62582442e-09 2.49777338e-10 1.32321654e-10\n",
            "  1.07686686e-08 3.80290771e-10 4.32424964e-11 1.37973089e-09\n",
            "  2.98549736e-08 2.62968025e-09 2.74616923e-07 5.47843548e-09\n",
            "  4.02503986e-09 4.25519930e-09 1.43032912e-06 4.18565696e-06\n",
            "  6.66953213e-08 1.50944899e-07 8.07496626e-03 3.27597810e-11\n",
            "  1.17222720e-09 1.11316023e-09 4.55664839e-08 1.58379157e-10\n",
            "  2.96814164e-07 6.11631634e-08 9.98343126e-07 5.84867355e-09\n",
            "  3.09620631e-08 5.04597040e-07 1.49880408e-09 3.65670090e-08\n",
            "  1.10804725e-08 2.25240811e-07 1.37306297e-05 2.11880106e-07\n",
            "  1.48908814e-08 2.27277086e-09 1.53675828e-08 9.61462021e-08\n",
            "  2.54021110e-10 8.93251766e-08 5.91979017e-07 6.92515698e-08\n",
            "  3.00697792e-07 5.34799716e-09 4.82202778e-10 5.80652504e-09\n",
            "  6.64654573e-12 2.02295624e-07 1.43883335e-06 8.34093186e-08\n",
            "  3.82223249e-08 2.07239115e-09 1.10486178e-06 3.43491195e-07\n",
            "  6.31372245e-07 2.10275448e-06 7.37524219e-03 1.07553581e-06\n",
            "  9.82186688e-09 1.51477817e-08 6.51706523e-06 1.96578198e-10\n",
            "  9.80426051e-08 1.68319275e-07 1.00059017e-09 1.96986747e-08\n",
            "  2.56563254e-07 1.94994840e-10 3.53809867e-07 7.63077196e-07\n",
            "  3.21770983e-08 4.63390819e-08 4.22501145e-08 1.10760139e-08\n",
            "  7.21661264e-09 6.45739135e-07 7.23885896e-10 7.58411889e-10\n",
            "  1.51907986e-09 2.93851476e-09 2.54683830e-10 3.15021009e-09\n",
            "  6.69396005e-09 1.18036088e-08 4.80576290e-08 4.63792027e-09\n",
            "  2.02421919e-08 4.74621231e-09 7.63364270e-08 2.05104128e-10\n",
            "  3.31174306e-08 8.53060840e-08 1.25573904e-04 7.24344209e-05\n",
            "  2.79019429e-11 6.80287737e-09 1.94827280e-07 1.59475455e-08\n",
            "  1.79231506e-07 1.13645754e-07 7.83873134e-07 2.36394210e-10\n",
            "  4.37166481e-09 7.21983451e-09 1.55338131e-09 4.59705149e-07\n",
            "  7.50130653e-07 1.65414402e-08 5.77817527e-09 3.11462759e-06\n",
            "  2.18172147e-08 1.82968911e-08 1.37136413e-09 6.06667871e-09\n",
            "  1.32978855e-08 2.72783485e-09 5.42844068e-11 1.20450439e-09\n",
            "  2.10340730e-07 6.99031322e-09 4.90595369e-08 3.68744424e-10\n",
            "  3.19062843e-09 5.71270539e-05 1.59632485e-08 5.61206903e-08\n",
            "  1.33694780e-08 1.87280899e-10 1.51943340e-07 1.06154747e-08\n",
            "  8.92695311e-07 3.72166609e-09 1.51750442e-07 2.46367787e-10\n",
            "  9.81606174e-09 4.96734422e-08 1.02357482e-08 1.63036677e-08\n",
            "  1.22390729e-08 2.73870700e-11 3.33170783e-11 3.06876613e-09\n",
            "  4.64549021e-09 2.15010050e-06 1.83748895e-07 1.07398694e-08\n",
            "  2.25212649e-09 4.18581112e-05 6.95735158e-09 2.00761257e-08\n",
            "  6.26616270e-08 2.31315241e-07 2.59516142e-08 4.31329482e-07\n",
            "  5.14792486e-10 1.12411335e-07 1.80966273e-01 4.73509772e-06\n",
            "  7.56548815e-08 1.62954816e-09 1.13325340e-08 1.49003698e-08\n",
            "  9.22526579e-06 3.01992764e-09 2.04575326e-08 4.02450446e-08\n",
            "  4.39504966e-09 2.82465962e-09 4.15951856e-11 4.29798241e-09\n",
            "  6.07689614e-08 8.38079899e-08 1.51646134e-07 3.66659342e-10\n",
            "  7.93574206e-10 5.70997862e-08 1.40928103e-06 4.60424865e-10\n",
            "  8.46383053e-09 7.34767092e-09 1.93773673e-07 1.59330718e-08\n",
            "  1.92862004e-07 3.38804185e-08 1.23391658e-07 3.19537428e-08\n",
            "  1.54262381e-07 1.27800840e-05 5.82048498e-09 2.00241921e-08\n",
            "  8.68759642e-09 2.30906938e-08 7.24461273e-08 6.74291755e-07\n",
            "  4.75449369e-09 6.39371436e-08 2.23295160e-09 5.36858025e-09\n",
            "  3.70421098e-08 5.02991604e-08 1.42388615e-10 3.59910963e-08\n",
            "  1.50202446e-08 2.39620612e-09 1.30489921e-08 1.78774513e-07\n",
            "  7.27236111e-05 9.89086715e-08 2.13028997e-10 6.55101617e-09\n",
            "  2.28070132e-08 5.21746868e-09 4.54257133e-07 7.66840014e-09\n",
            "  9.32423561e-09 3.63145986e-10 1.00442632e-08 2.15948015e-09\n",
            "  2.14288853e-08 4.32905563e-06 1.70869030e-09 1.41424294e-09\n",
            "  3.53060088e-08 1.13115595e-09 1.81288556e-07 1.48487833e-09\n",
            "  3.26416033e-10 2.67758136e-08 1.37888534e-07 1.36755334e-05\n",
            "  1.26772292e-07 4.62648124e-08 4.67615564e-07 3.98352240e-09\n",
            "  1.23539730e-08 5.08229121e-08 2.98149814e-07 1.54879287e-09\n",
            "  4.18870139e-09 7.41619377e-10 1.21238779e-08 5.75162424e-08\n",
            "  4.11229848e-07 8.46623660e-09 3.42862165e-07 2.84214536e-07\n",
            "  8.56405702e-09 6.66881022e-07 1.16490287e-06 8.30074320e-09\n",
            "  2.98445535e-08 3.12081605e-09 7.40778217e-10 4.37500383e-08\n",
            "  9.95213134e-10 7.32291483e-07 1.04286502e-09 1.24218014e-09\n",
            "  1.73259913e-08 5.86580086e-07 5.02431419e-07 4.17004209e-08\n",
            "  4.07290941e-07 1.66492098e-09 9.94636262e-10 7.44878492e-10\n",
            "  1.67054583e-08 1.59398428e-09 1.58564532e-07 2.02353889e-09\n",
            "  5.30348778e-08 2.77550090e-08 2.06685897e-07 2.72504371e-06\n",
            "  5.84575721e-11 1.23777237e-08 1.18660006e-08 1.22527766e-09\n",
            "  3.31745191e-08 1.28298083e-09 6.07363049e-11 1.45604440e-09\n",
            "  1.05439204e-08 2.06045692e-09 3.67059988e-06 9.16914303e-07\n",
            "  1.14268921e-07 5.01849335e-08 1.40914134e-08 5.14472775e-09\n",
            "  1.11235600e-07 6.15184774e-08 4.96079267e-08 2.22666159e-07\n",
            "  4.97430892e-06 2.65569922e-09 6.04638844e-05 7.85514658e-06\n",
            "  4.14257162e-09 1.04108091e-08 1.35615167e-07 3.07549435e-08\n",
            "  4.98278752e-10 1.07909361e-08 1.94112530e-07 2.77139065e-06\n",
            "  4.46606555e-06 5.41638947e-08 3.35960721e-07 9.54582635e-09\n",
            "  1.42716665e-08 6.29682518e-07 5.86182969e-09 4.81178901e-08\n",
            "  3.17303472e-09 8.85075693e-08 1.62078209e-07 2.92885716e-07\n",
            "  1.45240326e-08 1.28772726e-07 2.52591614e-09 1.87915870e-08\n",
            "  2.64052574e-06 1.20218910e-08 3.12155589e-06 5.07610025e-08\n",
            "  1.13227209e-07 2.09573625e-09 2.21539922e-11 1.15253805e-07\n",
            "  3.48784147e-06 2.19988170e-08 6.88219703e-10 8.54066897e-08\n",
            "  4.67517748e-06 2.80580159e-09 2.10472672e-06 8.18059842e-09\n",
            "  4.42214478e-08 5.71544092e-07 9.11026810e-10 4.26866137e-07\n",
            "  6.08713302e-10 2.87833890e-09 7.09957603e-05 1.17137133e-09\n",
            "  1.53874105e-08 1.94162486e-09 1.76356636e-08 1.65341216e-08\n",
            "  1.99752051e-07 1.92006695e-08 7.67706467e-07 9.31237594e-08\n",
            "  1.32877057e-10 3.84212280e-11 7.94818256e-09 1.92449967e-08\n",
            "  2.77169875e-07 2.14341910e-07 1.74547696e-10 6.04560029e-08\n",
            "  3.76275011e-09 2.18655191e-10 6.10318267e-08 4.67921346e-08\n",
            "  1.93158357e-07 9.34875644e-09 2.53175259e-09 1.94836192e-09\n",
            "  9.39863920e-09 3.87157417e-09 6.14440443e-11 1.49813033e-08\n",
            "  5.66045300e-09 1.69957133e-07 1.08293430e-09 5.55978041e-11\n",
            "  3.00849834e-09 8.17430360e-11 1.12172778e-10 4.59038293e-11\n",
            "  2.92490865e-10 1.03919620e-08 4.31456515e-09 3.82470139e-10\n",
            "  1.42496619e-08 2.89299331e-11 1.78869595e-08 4.97824178e-12\n",
            "  6.94693858e-10 1.48734094e-10 2.05156558e-10 1.13966026e-09\n",
            "  6.62635058e-10 9.42271677e-11 4.74301753e-09 4.46133583e-08\n",
            "  7.46406741e-08 3.86837368e-11 1.26650113e-09 4.29468816e-09\n",
            "  2.32100899e-08 2.20423818e-11 6.19568175e-10 1.16529664e-09\n",
            "  9.30633917e-08 4.54489779e-11 1.16159740e-07 8.40243928e-08\n",
            "  7.71193420e-09 9.49270870e-11 4.58660310e-07 6.30696051e-10\n",
            "  6.45265352e-12 2.27275461e-08 2.73537113e-11 6.32509101e-10\n",
            "  7.12430323e-11 1.07812155e-10 1.00772306e-08 2.38690699e-11\n",
            "  1.82307041e-08 1.02620357e-09 1.52234880e-09 1.48616509e-05\n",
            "  2.52893324e-06 2.56016475e-09 1.57009605e-08 4.19892075e-07\n",
            "  7.38366479e-09 5.08654125e-07 1.16801814e-07 2.92809732e-09\n",
            "  6.60486769e-12 3.96241489e-07 4.01869420e-06 4.02486506e-08\n",
            "  4.26493614e-08 6.59744204e-11 3.01212122e-09 2.27827535e-08\n",
            "  2.90930879e-09 1.27086591e-10 4.82276385e-10 1.11292628e-10\n",
            "  2.82003813e-11 1.56062371e-10 6.06708850e-11 5.19849386e-10\n",
            "  3.95878275e-10 2.05006748e-10 8.60131948e-08 7.35168442e-08]]\n"
          ]
        }
      ]
    },
    {
      "cell_type": "code",
      "source": [
        "from keras.applications.vgg16 import decode_predictions\n",
        "decode_predictions(y_pred,top=1)"
      ],
      "metadata": {
        "colab": {
          "base_uri": "https://localhost:8080/"
        },
        "id": "QMnbEP4Y7Z_5",
        "outputId": "92c5afa6-cc91-4dc7-a8fb-a2f2aa61def3"
      },
      "execution_count": null,
      "outputs": [
        {
          "output_type": "execute_result",
          "data": {
            "text/plain": [
              "[[('n02777292', 'balance_beam', 0.8014527)]]"
            ]
          },
          "metadata": {},
          "execution_count": 75
        }
      ]
    },
    {
      "cell_type": "code",
      "source": [
        "model.save('cat_dog_vgg16.h5')"
      ],
      "metadata": {
        "colab": {
          "base_uri": "https://localhost:8080/"
        },
        "id": "zQdYyyMc-wSC",
        "outputId": "e4a23298-0a42-416f-c972-00d84fa4c5c2"
      },
      "execution_count": null,
      "outputs": [
        {
          "output_type": "stream",
          "name": "stdout",
          "text": [
            "WARNING:tensorflow:Compiled the loaded model, but the compiled metrics have yet to be built. `model.compile_metrics` will be empty until you train or evaluate the model.\n"
          ]
        }
      ]
    },
    {
      "cell_type": "code",
      "source": [],
      "metadata": {
        "id": "fR3aAj1sC8IM"
      },
      "execution_count": null,
      "outputs": []
    },
    {
      "cell_type": "markdown",
      "source": [
        "**method 2 change last layer**"
      ],
      "metadata": {
        "id": "ML6KY-QdHnuT"
      }
    },
    {
      "cell_type": "code",
      "source": [
        "from keras.applications.vgg16 import VGG16\n"
      ],
      "metadata": {
        "id": "bIOoQi0xHvjQ"
      },
      "execution_count": null,
      "outputs": []
    },
    {
      "cell_type": "code",
      "source": [
        "vgg16 = VGG16()"
      ],
      "metadata": {
        "id": "JpUCaQ2qH3On"
      },
      "execution_count": null,
      "outputs": []
    },
    {
      "cell_type": "code",
      "source": [
        "type(vgg16)  #it is fuctional type , not sequential "
      ],
      "metadata": {
        "colab": {
          "base_uri": "https://localhost:8080/"
        },
        "id": "ytPN3kxWH5_C",
        "outputId": "93a386cc-a95e-4943-f0c1-10316e1d4b53"
      },
      "execution_count": null,
      "outputs": [
        {
          "output_type": "execute_result",
          "data": {
            "text/plain": [
              "keras.engine.functional.Functional"
            ]
          },
          "metadata": {},
          "execution_count": 108
        }
      ]
    },
    {
      "cell_type": "code",
      "source": [
        "from keras import Sequential\n",
        "model = Sequential()"
      ],
      "metadata": {
        "id": "PathtgqyIyql"
      },
      "execution_count": null,
      "outputs": []
    },
    {
      "cell_type": "code",
      "source": [
        "for layer in vgg16.layers[:-1]:\n",
        "  model.add(layer)"
      ],
      "metadata": {
        "id": "Zj8ZWaPpIJoD"
      },
      "execution_count": null,
      "outputs": []
    },
    {
      "cell_type": "code",
      "source": [
        "#freeze the layers , so weights of these layer does not change \n",
        "for layer in model.layers:\n",
        "  layer.trainable = False"
      ],
      "metadata": {
        "id": "Sbvi-ZttIPJd"
      },
      "execution_count": null,
      "outputs": []
    },
    {
      "cell_type": "code",
      "source": [
        "model.summary()"
      ],
      "metadata": {
        "colab": {
          "base_uri": "https://localhost:8080/"
        },
        "id": "yI2qHn_GI9xg",
        "outputId": "ac2fb30c-8ae1-4326-bcd7-5f94ba00d59a"
      },
      "execution_count": null,
      "outputs": [
        {
          "output_type": "stream",
          "name": "stdout",
          "text": [
            "Model: \"sequential_3\"\n",
            "_________________________________________________________________\n",
            " Layer (type)                Output Shape              Param #   \n",
            "=================================================================\n",
            " block1_conv1 (Conv2D)       (None, 224, 224, 64)      1792      \n",
            "                                                                 \n",
            " block1_conv2 (Conv2D)       (None, 224, 224, 64)      36928     \n",
            "                                                                 \n",
            " block1_pool (MaxPooling2D)  (None, 112, 112, 64)      0         \n",
            "                                                                 \n",
            " block2_conv1 (Conv2D)       (None, 112, 112, 128)     73856     \n",
            "                                                                 \n",
            " block2_conv2 (Conv2D)       (None, 112, 112, 128)     147584    \n",
            "                                                                 \n",
            " block2_pool (MaxPooling2D)  (None, 56, 56, 128)       0         \n",
            "                                                                 \n",
            " block3_conv1 (Conv2D)       (None, 56, 56, 256)       295168    \n",
            "                                                                 \n",
            " block3_conv2 (Conv2D)       (None, 56, 56, 256)       590080    \n",
            "                                                                 \n",
            " block3_conv3 (Conv2D)       (None, 56, 56, 256)       590080    \n",
            "                                                                 \n",
            " block3_pool (MaxPooling2D)  (None, 28, 28, 256)       0         \n",
            "                                                                 \n",
            " block4_conv1 (Conv2D)       (None, 28, 28, 512)       1180160   \n",
            "                                                                 \n",
            " block4_conv2 (Conv2D)       (None, 28, 28, 512)       2359808   \n",
            "                                                                 \n",
            " block4_conv3 (Conv2D)       (None, 28, 28, 512)       2359808   \n",
            "                                                                 \n",
            " block4_pool (MaxPooling2D)  (None, 14, 14, 512)       0         \n",
            "                                                                 \n",
            " block5_conv1 (Conv2D)       (None, 14, 14, 512)       2359808   \n",
            "                                                                 \n",
            " block5_conv2 (Conv2D)       (None, 14, 14, 512)       2359808   \n",
            "                                                                 \n",
            " block5_conv3 (Conv2D)       (None, 14, 14, 512)       2359808   \n",
            "                                                                 \n",
            " block5_pool (MaxPooling2D)  (None, 7, 7, 512)         0         \n",
            "                                                                 \n",
            " flatten (Flatten)           (None, 25088)             0         \n",
            "                                                                 \n",
            " fc1 (Dense)                 (None, 4096)              102764544 \n",
            "                                                                 \n",
            " fc2 (Dense)                 (None, 4096)              16781312  \n",
            "                                                                 \n",
            "=================================================================\n",
            "Total params: 134,260,544\n",
            "Trainable params: 0\n",
            "Non-trainable params: 134,260,544\n",
            "_________________________________________________________________\n"
          ]
        }
      ]
    },
    {
      "cell_type": "code",
      "source": [
        "#add last layer  (dense layer)\n",
        "model.add(Dense(1, activation = 'sigmoid'))"
      ],
      "metadata": {
        "id": "IGFdoY6QJeKO"
      },
      "execution_count": null,
      "outputs": []
    },
    {
      "cell_type": "code",
      "source": [
        "model.summary()"
      ],
      "metadata": {
        "colab": {
          "base_uri": "https://localhost:8080/"
        },
        "id": "d_dxiQFXJrXW",
        "outputId": "d4395763-cb3f-4804-8af6-5394342de5ff"
      },
      "execution_count": null,
      "outputs": [
        {
          "output_type": "stream",
          "name": "stdout",
          "text": [
            "Model: \"sequential_3\"\n",
            "_________________________________________________________________\n",
            " Layer (type)                Output Shape              Param #   \n",
            "=================================================================\n",
            " block1_conv1 (Conv2D)       (None, 224, 224, 64)      1792      \n",
            "                                                                 \n",
            " block1_conv2 (Conv2D)       (None, 224, 224, 64)      36928     \n",
            "                                                                 \n",
            " block1_pool (MaxPooling2D)  (None, 112, 112, 64)      0         \n",
            "                                                                 \n",
            " block2_conv1 (Conv2D)       (None, 112, 112, 128)     73856     \n",
            "                                                                 \n",
            " block2_conv2 (Conv2D)       (None, 112, 112, 128)     147584    \n",
            "                                                                 \n",
            " block2_pool (MaxPooling2D)  (None, 56, 56, 128)       0         \n",
            "                                                                 \n",
            " block3_conv1 (Conv2D)       (None, 56, 56, 256)       295168    \n",
            "                                                                 \n",
            " block3_conv2 (Conv2D)       (None, 56, 56, 256)       590080    \n",
            "                                                                 \n",
            " block3_conv3 (Conv2D)       (None, 56, 56, 256)       590080    \n",
            "                                                                 \n",
            " block3_pool (MaxPooling2D)  (None, 28, 28, 256)       0         \n",
            "                                                                 \n",
            " block4_conv1 (Conv2D)       (None, 28, 28, 512)       1180160   \n",
            "                                                                 \n",
            " block4_conv2 (Conv2D)       (None, 28, 28, 512)       2359808   \n",
            "                                                                 \n",
            " block4_conv3 (Conv2D)       (None, 28, 28, 512)       2359808   \n",
            "                                                                 \n",
            " block4_pool (MaxPooling2D)  (None, 14, 14, 512)       0         \n",
            "                                                                 \n",
            " block5_conv1 (Conv2D)       (None, 14, 14, 512)       2359808   \n",
            "                                                                 \n",
            " block5_conv2 (Conv2D)       (None, 14, 14, 512)       2359808   \n",
            "                                                                 \n",
            " block5_conv3 (Conv2D)       (None, 14, 14, 512)       2359808   \n",
            "                                                                 \n",
            " block5_pool (MaxPooling2D)  (None, 7, 7, 512)         0         \n",
            "                                                                 \n",
            " flatten (Flatten)           (None, 25088)             0         \n",
            "                                                                 \n",
            " fc1 (Dense)                 (None, 4096)              102764544 \n",
            "                                                                 \n",
            " fc2 (Dense)                 (None, 4096)              16781312  \n",
            "                                                                 \n",
            " dense_6 (Dense)             (None, 1)                 4097      \n",
            "                                                                 \n",
            "=================================================================\n",
            "Total params: 134,264,641\n",
            "Trainable params: 4,097\n",
            "Non-trainable params: 134,260,544\n",
            "_________________________________________________________________\n"
          ]
        }
      ]
    },
    {
      "cell_type": "code",
      "source": [
        "model.compile(optimizer = 'Adam', loss='binary_crossentropy', \n",
        "              metrics = ['accuracy'])"
      ],
      "metadata": {
        "id": "RpNlmxcrJ3m4"
      },
      "execution_count": null,
      "outputs": []
    },
    {
      "cell_type": "code",
      "source": [
        "model.fit_generator(\n",
        "        train_generator,\n",
        "        steps_per_epoch=2000 // batch_size,\n",
        "        epochs=5,\n",
        "        validation_data=validation_generator,\n",
        "        validation_steps=800 // batch_size)"
      ],
      "metadata": {
        "colab": {
          "base_uri": "https://localhost:8080/",
          "height": 1000
        },
        "id": "VJbAELwcKGIn",
        "outputId": "2169d9e4-1c96-4b47-bf3c-f5e2ebc2a587"
      },
      "execution_count": null,
      "outputs": [
        {
          "output_type": "stream",
          "name": "stderr",
          "text": [
            "/usr/local/lib/python3.7/dist-packages/ipykernel_launcher.py:4: UserWarning: `Model.fit_generator` is deprecated and will be removed in a future version. Please use `Model.fit`, which supports generators.\n",
            "  after removing the cwd from sys.path.\n"
          ]
        },
        {
          "output_type": "stream",
          "name": "stdout",
          "text": [
            "Epoch 1/5\n"
          ]
        },
        {
          "output_type": "error",
          "ename": "InvalidArgumentError",
          "evalue": "ignored",
          "traceback": [
            "\u001b[0;31m---------------------------------------------------------------------------\u001b[0m",
            "\u001b[0;31mInvalidArgumentError\u001b[0m                      Traceback (most recent call last)",
            "\u001b[0;32m<ipython-input-117-dff5efbb4548>\u001b[0m in \u001b[0;36m<module>\u001b[0;34m()\u001b[0m\n\u001b[1;32m      2\u001b[0m         \u001b[0mtrain_generator\u001b[0m\u001b[0;34m,\u001b[0m\u001b[0;34m\u001b[0m\u001b[0;34m\u001b[0m\u001b[0m\n\u001b[1;32m      3\u001b[0m         \u001b[0msteps_per_epoch\u001b[0m\u001b[0;34m=\u001b[0m\u001b[0;36m2000\u001b[0m \u001b[0;34m//\u001b[0m \u001b[0mbatch_size\u001b[0m\u001b[0;34m,\u001b[0m\u001b[0;34m\u001b[0m\u001b[0;34m\u001b[0m\u001b[0m\n\u001b[0;32m----> 4\u001b[0;31m         \u001b[0mepochs\u001b[0m\u001b[0;34m=\u001b[0m\u001b[0;36m5\u001b[0m\u001b[0;34m\u001b[0m\u001b[0;34m\u001b[0m\u001b[0m\n\u001b[0m\u001b[1;32m      5\u001b[0m         \u001b[0;31m# validation_data=validation_generator,\u001b[0m\u001b[0;34m\u001b[0m\u001b[0;34m\u001b[0m\u001b[0;34m\u001b[0m\u001b[0m\n\u001b[1;32m      6\u001b[0m         \u001b[0;31m# validation_steps=800 // batch_size\u001b[0m\u001b[0;34m\u001b[0m\u001b[0;34m\u001b[0m\u001b[0;34m\u001b[0m\u001b[0m\n",
            "\u001b[0;32m/usr/local/lib/python3.7/dist-packages/keras/engine/training.py\u001b[0m in \u001b[0;36mfit_generator\u001b[0;34m(self, generator, steps_per_epoch, epochs, verbose, callbacks, validation_data, validation_steps, validation_freq, class_weight, max_queue_size, workers, use_multiprocessing, shuffle, initial_epoch)\u001b[0m\n\u001b[1;32m   2221\u001b[0m         \u001b[0muse_multiprocessing\u001b[0m\u001b[0;34m=\u001b[0m\u001b[0muse_multiprocessing\u001b[0m\u001b[0;34m,\u001b[0m\u001b[0;34m\u001b[0m\u001b[0;34m\u001b[0m\u001b[0m\n\u001b[1;32m   2222\u001b[0m         \u001b[0mshuffle\u001b[0m\u001b[0;34m=\u001b[0m\u001b[0mshuffle\u001b[0m\u001b[0;34m,\u001b[0m\u001b[0;34m\u001b[0m\u001b[0;34m\u001b[0m\u001b[0m\n\u001b[0;32m-> 2223\u001b[0;31m         initial_epoch=initial_epoch)\n\u001b[0m\u001b[1;32m   2224\u001b[0m \u001b[0;34m\u001b[0m\u001b[0m\n\u001b[1;32m   2225\u001b[0m   \u001b[0;34m@\u001b[0m\u001b[0mdoc_controls\u001b[0m\u001b[0;34m.\u001b[0m\u001b[0mdo_not_generate_docs\u001b[0m\u001b[0;34m\u001b[0m\u001b[0;34m\u001b[0m\u001b[0m\n",
            "\u001b[0;32m/usr/local/lib/python3.7/dist-packages/keras/utils/traceback_utils.py\u001b[0m in \u001b[0;36merror_handler\u001b[0;34m(*args, **kwargs)\u001b[0m\n\u001b[1;32m     65\u001b[0m     \u001b[0;32mexcept\u001b[0m \u001b[0mException\u001b[0m \u001b[0;32mas\u001b[0m \u001b[0me\u001b[0m\u001b[0;34m:\u001b[0m  \u001b[0;31m# pylint: disable=broad-except\u001b[0m\u001b[0;34m\u001b[0m\u001b[0;34m\u001b[0m\u001b[0m\n\u001b[1;32m     66\u001b[0m       \u001b[0mfiltered_tb\u001b[0m \u001b[0;34m=\u001b[0m \u001b[0m_process_traceback_frames\u001b[0m\u001b[0;34m(\u001b[0m\u001b[0me\u001b[0m\u001b[0;34m.\u001b[0m\u001b[0m__traceback__\u001b[0m\u001b[0;34m)\u001b[0m\u001b[0;34m\u001b[0m\u001b[0;34m\u001b[0m\u001b[0m\n\u001b[0;32m---> 67\u001b[0;31m       \u001b[0;32mraise\u001b[0m \u001b[0me\u001b[0m\u001b[0;34m.\u001b[0m\u001b[0mwith_traceback\u001b[0m\u001b[0;34m(\u001b[0m\u001b[0mfiltered_tb\u001b[0m\u001b[0;34m)\u001b[0m \u001b[0;32mfrom\u001b[0m \u001b[0;32mNone\u001b[0m\u001b[0;34m\u001b[0m\u001b[0;34m\u001b[0m\u001b[0m\n\u001b[0m\u001b[1;32m     68\u001b[0m     \u001b[0;32mfinally\u001b[0m\u001b[0;34m:\u001b[0m\u001b[0;34m\u001b[0m\u001b[0;34m\u001b[0m\u001b[0m\n\u001b[1;32m     69\u001b[0m       \u001b[0;32mdel\u001b[0m \u001b[0mfiltered_tb\u001b[0m\u001b[0;34m\u001b[0m\u001b[0;34m\u001b[0m\u001b[0m\n",
            "\u001b[0;32m/usr/local/lib/python3.7/dist-packages/tensorflow/python/eager/execute.py\u001b[0m in \u001b[0;36mquick_execute\u001b[0;34m(op_name, num_outputs, inputs, attrs, ctx, name)\u001b[0m\n\u001b[1;32m     53\u001b[0m     \u001b[0mctx\u001b[0m\u001b[0;34m.\u001b[0m\u001b[0mensure_initialized\u001b[0m\u001b[0;34m(\u001b[0m\u001b[0;34m)\u001b[0m\u001b[0;34m\u001b[0m\u001b[0;34m\u001b[0m\u001b[0m\n\u001b[1;32m     54\u001b[0m     tensors = pywrap_tfe.TFE_Py_Execute(ctx._handle, device_name, op_name,\n\u001b[0;32m---> 55\u001b[0;31m                                         inputs, attrs, num_outputs)\n\u001b[0m\u001b[1;32m     56\u001b[0m   \u001b[0;32mexcept\u001b[0m \u001b[0mcore\u001b[0m\u001b[0;34m.\u001b[0m\u001b[0m_NotOkStatusException\u001b[0m \u001b[0;32mas\u001b[0m \u001b[0me\u001b[0m\u001b[0;34m:\u001b[0m\u001b[0;34m\u001b[0m\u001b[0;34m\u001b[0m\u001b[0m\n\u001b[1;32m     57\u001b[0m     \u001b[0;32mif\u001b[0m \u001b[0mname\u001b[0m \u001b[0;32mis\u001b[0m \u001b[0;32mnot\u001b[0m \u001b[0;32mNone\u001b[0m\u001b[0;34m:\u001b[0m\u001b[0;34m\u001b[0m\u001b[0;34m\u001b[0m\u001b[0m\n",
            "\u001b[0;31mInvalidArgumentError\u001b[0m: Graph execution error:\n\nDetected at node 'sequential_4/flatten/Reshape' defined at (most recent call last):\n    File \"/usr/lib/python3.7/runpy.py\", line 193, in _run_module_as_main\n      \"__main__\", mod_spec)\n    File \"/usr/lib/python3.7/runpy.py\", line 85, in _run_code\n      exec(code, run_globals)\n    File \"/usr/local/lib/python3.7/dist-packages/ipykernel_launcher.py\", line 16, in <module>\n      app.launch_new_instance()\n    File \"/usr/local/lib/python3.7/dist-packages/traitlets/config/application.py\", line 846, in launch_instance\n      app.start()\n    File \"/usr/local/lib/python3.7/dist-packages/ipykernel/kernelapp.py\", line 499, in start\n      self.io_loop.start()\n    File \"/usr/local/lib/python3.7/dist-packages/tornado/platform/asyncio.py\", line 132, in start\n      self.asyncio_loop.run_forever()\n    File \"/usr/lib/python3.7/asyncio/base_events.py\", line 541, in run_forever\n      self._run_once()\n    File \"/usr/lib/python3.7/asyncio/base_events.py\", line 1786, in _run_once\n      handle._run()\n    File \"/usr/lib/python3.7/asyncio/events.py\", line 88, in _run\n      self._context.run(self._callback, *self._args)\n    File \"/usr/local/lib/python3.7/dist-packages/tornado/platform/asyncio.py\", line 122, in _handle_events\n      handler_func(fileobj, events)\n    File \"/usr/local/lib/python3.7/dist-packages/tornado/stack_context.py\", line 300, in null_wrapper\n      return fn(*args, **kwargs)\n    File \"/usr/local/lib/python3.7/dist-packages/zmq/eventloop/zmqstream.py\", line 577, in _handle_events\n      self._handle_recv()\n    File \"/usr/local/lib/python3.7/dist-packages/zmq/eventloop/zmqstream.py\", line 606, in _handle_recv\n      self._run_callback(callback, msg)\n    File \"/usr/local/lib/python3.7/dist-packages/zmq/eventloop/zmqstream.py\", line 556, in _run_callback\n      callback(*args, **kwargs)\n    File \"/usr/local/lib/python3.7/dist-packages/tornado/stack_context.py\", line 300, in null_wrapper\n      return fn(*args, **kwargs)\n    File \"/usr/local/lib/python3.7/dist-packages/ipykernel/kernelbase.py\", line 283, in dispatcher\n      return self.dispatch_shell(stream, msg)\n    File \"/usr/local/lib/python3.7/dist-packages/ipykernel/kernelbase.py\", line 233, in dispatch_shell\n      handler(stream, idents, msg)\n    File \"/usr/local/lib/python3.7/dist-packages/ipykernel/kernelbase.py\", line 399, in execute_request\n      user_expressions, allow_stdin)\n    File \"/usr/local/lib/python3.7/dist-packages/ipykernel/ipkernel.py\", line 208, in do_execute\n      res = shell.run_cell(code, store_history=store_history, silent=silent)\n    File \"/usr/local/lib/python3.7/dist-packages/ipykernel/zmqshell.py\", line 537, in run_cell\n      return super(ZMQInteractiveShell, self).run_cell(*args, **kwargs)\n    File \"/usr/local/lib/python3.7/dist-packages/IPython/core/interactiveshell.py\", line 2718, in run_cell\n      interactivity=interactivity, compiler=compiler, result=result)\n    File \"/usr/local/lib/python3.7/dist-packages/IPython/core/interactiveshell.py\", line 2828, in run_ast_nodes\n      if self.run_code(code, result):\n    File \"/usr/local/lib/python3.7/dist-packages/IPython/core/interactiveshell.py\", line 2882, in run_code\n      exec(code_obj, self.user_global_ns, self.user_ns)\n    File \"<ipython-input-114-c71914a90443>\", line 6, in <module>\n      validation_steps=800 // batch_size)\n    File \"/usr/local/lib/python3.7/dist-packages/keras/engine/training.py\", line 2223, in fit_generator\n      initial_epoch=initial_epoch)\n    File \"/usr/local/lib/python3.7/dist-packages/keras/utils/traceback_utils.py\", line 64, in error_handler\n      return fn(*args, **kwargs)\n    File \"/usr/local/lib/python3.7/dist-packages/keras/engine/training.py\", line 1384, in fit\n      tmp_logs = self.train_function(iterator)\n    File \"/usr/local/lib/python3.7/dist-packages/keras/engine/training.py\", line 1021, in train_function\n      return step_function(self, iterator)\n    File \"/usr/local/lib/python3.7/dist-packages/keras/engine/training.py\", line 1010, in step_function\n      outputs = model.distribute_strategy.run(run_step, args=(data,))\n    File \"/usr/local/lib/python3.7/dist-packages/keras/engine/training.py\", line 1000, in run_step\n      outputs = model.train_step(data)\n    File \"/usr/local/lib/python3.7/dist-packages/keras/engine/training.py\", line 859, in train_step\n      y_pred = self(x, training=True)\n    File \"/usr/local/lib/python3.7/dist-packages/keras/utils/traceback_utils.py\", line 64, in error_handler\n      return fn(*args, **kwargs)\n    File \"/usr/local/lib/python3.7/dist-packages/keras/engine/base_layer.py\", line 1096, in __call__\n      outputs = call_fn(inputs, *args, **kwargs)\n    File \"/usr/local/lib/python3.7/dist-packages/keras/utils/traceback_utils.py\", line 92, in error_handler\n      return fn(*args, **kwargs)\n    File \"/usr/local/lib/python3.7/dist-packages/keras/engine/sequential.py\", line 374, in call\n      return super(Sequential, self).call(inputs, training=training, mask=mask)\n    File \"/usr/local/lib/python3.7/dist-packages/keras/engine/functional.py\", line 452, in call\n      inputs, training=training, mask=mask)\n    File \"/usr/local/lib/python3.7/dist-packages/keras/engine/functional.py\", line 589, in _run_internal_graph\n      outputs = node.layer(*args, **kwargs)\n    File \"/usr/local/lib/python3.7/dist-packages/keras/utils/traceback_utils.py\", line 64, in error_handler\n      return fn(*args, **kwargs)\n    File \"/usr/local/lib/python3.7/dist-packages/keras/engine/base_layer.py\", line 1096, in __call__\n      outputs = call_fn(inputs, *args, **kwargs)\n    File \"/usr/local/lib/python3.7/dist-packages/keras/utils/traceback_utils.py\", line 92, in error_handler\n      return fn(*args, **kwargs)\n    File \"/usr/local/lib/python3.7/dist-packages/keras/layers/core/flatten.py\", line 96, in call\n      return tf.reshape(inputs, flattened_shape)\nNode: 'sequential_4/flatten/Reshape'\nInput to reshape is a tensor with 131072 values, but the requested shape requires a multiple of 25088\n\t [[{{node sequential_4/flatten/Reshape}}]] [Op:__inference_train_function_13794]"
          ]
        }
      ]
    },
    {
      "cell_type": "code",
      "source": [],
      "metadata": {
        "id": "dz5Q4pZbKNA0"
      },
      "execution_count": null,
      "outputs": []
    }
  ]
}